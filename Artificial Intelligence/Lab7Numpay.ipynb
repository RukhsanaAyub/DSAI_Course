{
 "cells": [
  {
   "cell_type": "code",
   "execution_count": 1,
   "id": "86d0f057-3008-4cbc-82a8-4db5e204bca2",
   "metadata": {},
   "outputs": [
    {
     "name": "stdout",
     "output_type": "stream",
     "text": [
      "Array:\n",
      "[[  1   2   3   4   5   6   7   8   9  10]\n",
      " [ 11  12  13  14  15  16  17  18  19  20]\n",
      " [ 21  22  23  24  25  26  27  28  29  30]\n",
      " [ 31  32  33  34  35  36  37  38  39  40]\n",
      " [ 41  42  43  44  45  46  47  48  49  50]\n",
      " [ 51  52  53  54  55  56  57  58  59  60]\n",
      " [ 61  62  63  64  65  66  67  68  69  70]\n",
      " [ 71  72  73  74  75  76  77  78  79  80]\n",
      " [ 81  82  83  84  85  86  87  88  89  90]\n",
      " [ 91  92  93  94  95  96  97  98  99 100]]\n",
      "\n",
      "Row Sums:\n",
      "[ 55 155 255 355 455 555 655 755 855 955]\n",
      "\n",
      "Row with Maximum Sum: 9\n"
     ]
    }
   ],
   "source": [
    "import numpy as np\n",
    "\n",
    "arr = np.arange(1, 101)\n",
    "\n",
    "arr_reshaped = arr.reshape(10, 10)\n",
    "\n",
    "row_sums = np.sum(arr_reshaped, axis=1)\n",
    "\n",
    "max_sum_row = np.argmax(row_sums)\n",
    "\n",
    "print(\"Array:\")\n",
    "print(arr_reshaped)\n",
    "print()\n",
    "print(\"Row Sums:\")\n",
    "print(row_sums)\n",
    "print()\n",
    "print(\"Row with Maximum Sum:\", max_sum_row)\n"
   ]
  },
  {
   "cell_type": "code",
   "execution_count": 2,
   "id": "6b1c1680-9a3a-4b90-96e5-c338393f39a9",
   "metadata": {},
   "outputs": [
    {
     "name": "stdout",
     "output_type": "stream",
     "text": [
      "Array:\n",
      "[[  1   2   3   4   5   6   7   8   9  10]\n",
      " [ 11  12  13  14  15  16  17  18  19  20]\n",
      " [ 21  22  23  24  25  26  27  28  29  30]\n",
      " [ 31  32  33  34  35  36  37  38  39  40]\n",
      " [ 41  42  43  44  45  46  47  48  49  50]\n",
      " [ 51  52  53  54  55  56  57  58  59  60]\n",
      " [ 61  62  63  64  65  66  67  68  69  70]\n",
      " [ 71  72  73  74  75  76  77  78  79  80]\n",
      " [ 81  82  83  84  85  86  87  88  89  90]\n",
      " [ 91  92  93  94  95  96  97  98  99 100]]\n",
      "\n",
      "Row Sums:\n",
      "[ 55 155 255 355 455 555 655 755 855 955]\n",
      "\n",
      "Row with Maximum Sum: 9\n"
     ]
    }
   ],
   "source": [
    "import numpy as np\n",
    "\n",
    "\n",
    "arr = np.arange(1, 101)\n",
    "\n",
    "arr_reshaped = arr.reshape(10, 10)\n",
    "\n",
    "\n",
    "row_sums = np.sum(arr_reshaped, axis=1)\n",
    "\n",
    "\n",
    "max_sum_row = np.argmax(row_sums)\n",
    "\n",
    "print(\"Array:\")\n",
    "print(arr_reshaped)\n",
    "print()\n",
    "print(\"Row Sums:\")\n",
    "print(row_sums)\n",
    "print()\n",
    "print(\"Row with Maximum Sum:\", max_sum_row)\n"
   ]
  },
  {
   "cell_type": "code",
   "execution_count": null,
   "id": "4b22e0f2-2892-49ef-9328-276d57e91cde",
   "metadata": {},
   "outputs": [],
   "source": []
  }
 ],
 "metadata": {
  "kernelspec": {
   "display_name": "Python 3 (ipykernel)",
   "language": "python",
   "name": "python3"
  },
  "language_info": {
   "codemirror_mode": {
    "name": "ipython",
    "version": 3
   },
   "file_extension": ".py",
   "mimetype": "text/x-python",
   "name": "python",
   "nbconvert_exporter": "python",
   "pygments_lexer": "ipython3",
   "version": "3.12.4"
  }
 },
 "nbformat": 4,
 "nbformat_minor": 5
}
