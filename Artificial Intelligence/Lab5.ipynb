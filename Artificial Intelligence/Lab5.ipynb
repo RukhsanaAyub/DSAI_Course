{
 "cells": [
  {
   "cell_type": "code",
   "execution_count": 1,
   "id": "f02d70cb-46e1-4625-a6b0-dee06fa55687",
   "metadata": {},
   "outputs": [
    {
     "name": "stdin",
     "output_type": "stream",
     "text": [
      "Enter the number of values to be input:  1\n",
      "Enter the number:  2\n"
     ]
    },
    {
     "name": "stdout",
     "output_type": "stream",
     "text": [
      "The sum is: 2.0\n",
      "The smallest value of entered numbers is 2.0\n"
     ]
    }
   ],
   "source": [
    "def main():\n",
    "    num_values = int(input(\"Enter the number of values to be input: \"))\n",
    "\n",
    "    values = []\n",
    "\n",
    "    for _ in range(num_values):\n",
    "        value = float(input(\"Enter the number: \"))\n",
    "        values.append(value)\n",
    "\n",
    "    total_sum = sum(values)\n",
    "\n",
    "    smallest_value = min(values)\n",
    "\n",
    "    print(f\"The sum is: {total_sum}\")\n",
    "    print(f\"The smallest value of entered numbers is {smallest_value}\")\n",
    "\n",
    "if __name__ == \"__main__\":\n",
    "    main()\n"
   ]
  },
  {
   "cell_type": "code",
   "execution_count": 2,
   "id": "b0918780-54ac-43e5-9b2d-a28d166eb556",
   "metadata": {},
   "outputs": [
    {
     "name": "stdout",
     "output_type": "stream",
     "text": [
      "4-digit Armstrong numbers are: [1634, 8208, 9474]\n"
     ]
    }
   ],
   "source": [
    "def is_armstrong(num):\n",
    "    digits = [int(digit) for digit in str(num)]\n",
    "    return num == sum(digit ** 4 for digit in digits)\n",
    "\n",
    "armstrong_numbers = []\n",
    "\n",
    "for num in range(1000, 10000):\n",
    "    if is_armstrong(num):\n",
    "        armstrong_numbers.append(num)\n",
    "\n",
    "print(\"4-digit Armstrong numbers are:\", armstrong_numbers)\n"
   ]
  },
  {
   "cell_type": "code",
   "execution_count": 3,
   "id": "c695af21-f31d-4d7b-96bd-650bf8c83257",
   "metadata": {},
   "outputs": [
    {
     "name": "stdout",
     "output_type": "stream",
     "text": [
      "1: Rukhsana\n",
      "2: Rukhsana\n",
      "3: Rukhsana\n",
      "4: Rukhsana\n",
      "5: Rukhsana\n",
      "6: Rukhsana\n",
      "7: Rukhsana\n",
      "8: Rukhsana\n",
      "9: Rukhsana\n",
      "10: Rukhsana\n",
      "11: Rukhsana\n",
      "12: Rukhsana\n",
      "13: Rukhsana\n",
      "14: Rukhsana\n",
      "15: Rukhsana\n",
      "16: Rukhsana\n",
      "17: Rukhsana\n",
      "18: Rukhsana\n",
      "19: Rukhsana\n",
      "20: Rukhsana\n",
      "21: Rukhsana\n",
      "22: Rukhsana\n",
      "23: Rukhsana\n",
      "24: Rukhsana\n",
      "25: Rukhsana\n",
      "26: Rukhsana\n",
      "27: Rukhsana\n",
      "28: Rukhsana\n",
      "29: Rukhsana\n",
      "30: Rukhsana\n",
      "31: Rukhsana\n",
      "32: Rukhsana\n",
      "33: Rukhsana\n",
      "34: Rukhsana\n",
      "35: Rukhsana\n",
      "36: Rukhsana\n",
      "37: Rukhsana\n",
      "38: Rukhsana\n",
      "39: Rukhsana\n",
      "40: Rukhsana\n",
      "41: Rukhsana\n",
      "42: Rukhsana\n",
      "43: Rukhsana\n",
      "44: Rukhsana\n",
      "45: Rukhsana\n",
      "46: Rukhsana\n",
      "47: Rukhsana\n",
      "48: Rukhsana\n",
      "49: Rukhsana\n",
      "50: Rukhsana\n",
      "51: Rukhsana\n",
      "52: Rukhsana\n",
      "53: Rukhsana\n",
      "54: Rukhsana\n",
      "55: Rukhsana\n",
      "56: Rukhsana\n",
      "57: Rukhsana\n",
      "58: Rukhsana\n",
      "59: Rukhsana\n",
      "60: Rukhsana\n",
      "61: Rukhsana\n",
      "62: Rukhsana\n",
      "63: Rukhsana\n",
      "64: Rukhsana\n",
      "65: Rukhsana\n",
      "66: Rukhsana\n",
      "67: Rukhsana\n",
      "68: Rukhsana\n",
      "69: Rukhsana\n",
      "70: Rukhsana\n",
      "71: Rukhsana\n",
      "72: Rukhsana\n",
      "73: Rukhsana\n",
      "74: Rukhsana\n",
      "75: Rukhsana\n",
      "76: Rukhsana\n",
      "77: Rukhsana\n",
      "78: Rukhsana\n",
      "79: Rukhsana\n",
      "80: Rukhsana\n",
      "81: Rukhsana\n",
      "82: Rukhsana\n",
      "83: Rukhsana\n",
      "84: Rukhsana\n",
      "85: Rukhsana\n",
      "86: Rukhsana\n",
      "87: Rukhsana\n",
      "88: Rukhsana\n",
      "89: Rukhsana\n",
      "90: Rukhsana\n",
      "91: Rukhsana\n",
      "92: Rukhsana\n",
      "93: Rukhsana\n",
      "94: Rukhsana\n",
      "95: Rukhsana\n",
      "96: Rukhsana\n",
      "97: Rukhsana\n",
      "98: Rukhsana\n",
      "99: Rukhsana\n",
      "100: Rukhsana\n"
     ]
    }
   ],
   "source": [
    "name = \"Rukhsana\"\n",
    "\n",
    "for i in range(1, 101):\n",
    "    print(f\"{i}: {name}\")\n"
   ]
  },
  {
   "cell_type": "code",
   "execution_count": 4,
   "id": "7634c374-454e-43ee-a2e6-c1e792379953",
   "metadata": {},
   "outputs": [
    {
     "name": "stdout",
     "output_type": "stream",
     "text": [
      "Number    Square    \n",
      "1         1         \n",
      "2         4         \n",
      "3         9         \n",
      "4         16        \n",
      "5         25        \n",
      "6         36        \n",
      "7         49        \n",
      "8         64        \n",
      "9         81        \n",
      "10        100       \n",
      "11        121       \n",
      "12        144       \n",
      "13        169       \n",
      "14        196       \n",
      "15        225       \n",
      "16        256       \n",
      "17        289       \n",
      "18        324       \n",
      "19        361       \n",
      "20        400       \n"
     ]
    }
   ],
   "source": [
    "print(f\"{'Number':<10}{'Square':<10}\")\n",
    "\n",
    "for i in range(1, 21):\n",
    "    square = i ** 2\n",
    "    print(f\"{i:<10}{square:<10}\")\n"
   ]
  },
  {
   "cell_type": "code",
   "execution_count": 5,
   "id": "184e3a85-34d1-4aa8-b34d-9c964d6c3557",
   "metadata": {},
   "outputs": [
    {
     "name": "stdout",
     "output_type": "stream",
     "text": [
      "8\n",
      "11\n",
      "14\n",
      "17\n",
      "20\n",
      "23\n",
      "26\n",
      "29\n",
      "32\n",
      "35\n",
      "38\n",
      "41\n",
      "44\n",
      "47\n",
      "50\n",
      "53\n",
      "56\n",
      "59\n",
      "62\n",
      "65\n",
      "68\n",
      "71\n",
      "74\n",
      "77\n",
      "80\n",
      "83\n",
      "86\n",
      "89\n"
     ]
    }
   ],
   "source": [
    "start = 8\n",
    "difference = 3\n",
    "end = 89\n",
    "\n",
    "for num in range(start, end + 1, difference):\n",
    "    print(num)\n"
   ]
  },
  {
   "cell_type": "code",
   "execution_count": 6,
   "id": "b6d66882-6a68-4916-84bf-a723158e39fb",
   "metadata": {},
   "outputs": [
    {
     "name": "stdin",
     "output_type": "stream",
     "text": [
      "Enter your name:  rukhsana\n",
      "How many times would you like to print your name?  4\n"
     ]
    },
    {
     "name": "stdout",
     "output_type": "stream",
     "text": [
      "rukhsana\n",
      "rukhsana\n",
      "rukhsana\n",
      "rukhsana\n"
     ]
    }
   ],
   "source": [
    "name = input(\"Enter your name: \")\n",
    "\n",
    "num_times = int(input(\"How many times would you like to print your name? \"))\n",
    "\n",
    "for _ in range(num_times):\n",
    "    print(name)\n"
   ]
  },
  {
   "cell_type": "code",
   "execution_count": 7,
   "id": "dc8d2883-e145-4e2c-93ea-e88e27bc4bb5",
   "metadata": {},
   "outputs": [
    {
     "name": "stdout",
     "output_type": "stream",
     "text": [
      "   *\n",
      "  ***\n",
      " *****\n",
      "*******\n",
      " *****\n",
      "  ***\n",
      "   *\n"
     ]
    }
   ],
   "source": [
    "def print_diamond_fixed():\n",
    "    height = 4  \n",
    "    \n",
    "    for i in range(height):\n",
    "        for j in range(height - i - 1):\n",
    "            print(' ', end='')\n",
    "        for j in range(2 * i + 1):\n",
    "            print('*', end='')\n",
    "        print()\n",
    "    \n",
    "    for i in range(height - 2, -1, -1):\n",
    "        for j in range(height - i - 1):\n",
    "            print(' ', end='')\n",
    "        for j in range(2 * i + 1):\n",
    "            print('*', end='')\n",
    "        print()\n",
    "\n",
    "print_diamond_fixed()\n"
   ]
  },
  {
   "cell_type": "code",
   "execution_count": null,
   "id": "d54f3f04-2120-437d-bf01-20a586bee729",
   "metadata": {},
   "outputs": [],
   "source": []
  }
 ],
 "metadata": {
  "kernelspec": {
   "display_name": "Python 3 (ipykernel)",
   "language": "python",
   "name": "python3"
  },
  "language_info": {
   "codemirror_mode": {
    "name": "ipython",
    "version": 3
   },
   "file_extension": ".py",
   "mimetype": "text/x-python",
   "name": "python",
   "nbconvert_exporter": "python",
   "pygments_lexer": "ipython3",
   "version": "3.12.4"
  }
 },
 "nbformat": 4,
 "nbformat_minor": 5
}
