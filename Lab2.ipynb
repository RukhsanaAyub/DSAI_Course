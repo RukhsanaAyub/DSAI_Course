{
 "cells": [
  {
   "cell_type": "code",
   "execution_count": 2,
   "id": "eaaa198c-10aa-48b1-8009-a8f08aa37676",
   "metadata": {},
   "outputs": [
    {
     "name": "stdout",
     "output_type": "stream",
     "text": [
      "7 --- 14 --- 21 --- 28 --- 35\n"
     ]
    }
   ],
   "source": [
    "x=7\n",
    "print(x,\"---\",2*x,\"---\",3*x,\"---\",4*x,\"---\",5*x)"
   ]
  },
  {
   "cell_type": "code",
   "execution_count": 10,
   "id": "dcb83394-0321-403c-a958-dfef655828d3",
   "metadata": {},
   "outputs": [
    {
     "name": "stdout",
     "output_type": "stream",
     "text": [
      "The rabbit is3.\n",
      "The rabbit is 3 years old.\n",
      "12.5 is average.\n",
      "12.5 * 3\n",
      "12.5  *  3 is 37.5\n"
     ]
    }
   ],
   "source": [
    "x = 3\n",
    "y = 12.5\n",
    "print(\"The rabbit is\", x, \".\" , sep=\"\")\n",
    "print(\"The rabbit is\", x, \"years old.\")\n",
    "print(y, \"is average.\")\n",
    "print(y, \"*\" , x)\n",
    "print(y, \" * \" , x , \"is\" ,y * x)"
   ]
  },
  {
   "cell_type": "code",
   "execution_count": 12,
   "id": "9b1dbb22-c94a-4a49-a42c-64f8dbc0a68f",
   "metadata": {},
   "outputs": [
    {
     "name": "stdout",
     "output_type": "stream",
     "text": [
      "6\n",
      "20.0\n",
      "4.5\n",
      "-4.5\n",
      "-5\n",
      "1\n",
      "1.0\n",
      "1.0\n",
      "-1\n",
      "1\n",
      "-4.5\n",
      "19\n",
      "35\n"
     ]
    }
   ],
   "source": [
    "a = 9 - 3\n",
    "b = 8 * 2.5\n",
    "c = 9 / 2\n",
    "d = 9 / -2\n",
    "e = 9 // -2\n",
    "f = 9 % 2\n",
    "g = 9.0 % 2\n",
    "h = 9 % 2.0\n",
    "i = 9 % -2\n",
    "j = -9 % 2\n",
    "k = 9 / -2.0\n",
    "l = 4 + 3 * 5\n",
    "m = (4 + 3) * 5\n",
    "print(a)  \n",
    "print(b)  \n",
    "print(c)  \n",
    "print(d)  \n",
    "print(e)  \n",
    "print(f)  \n",
    "print(g)  \n",
    "print(h)  \n",
    "print(i)  \n",
    "print(j)  \n",
    "print(k)  \n",
    "print(l)  \n",
    "print(m)  \n",
    "\n",
    "\n"
   ]
  },
  {
   "cell_type": "code",
   "execution_count": 13,
   "id": "3b662d65-a7f6-457c-8ee6-dc9cfd24c35d",
   "metadata": {},
   "outputs": [
    {
     "name": "stdout",
     "output_type": "stream",
     "text": [
      "6 * -----------8\n"
     ]
    }
   ],
   "source": [
    "print(\"6 * -----------8\")"
   ]
  },
  {
   "cell_type": "code",
   "execution_count": 14,
   "id": "640fbf0b-0ce9-416e-b25b-b0c21d42e808",
   "metadata": {},
   "outputs": [
    {
     "ename": "SyntaxError",
     "evalue": "invalid syntax (3820193962.py, line 1)",
     "output_type": "error",
     "traceback": [
      "\u001b[1;36m  Cell \u001b[1;32mIn[14], line 1\u001b[1;36m\u001b[0m\n\u001b[1;33m    o.\t8 = people\u001b[0m\n\u001b[1;37m      \t^\u001b[0m\n\u001b[1;31mSyntaxError\u001b[0m\u001b[1;31m:\u001b[0m invalid syntax\n"
     ]
    }
   ],
   "source": [
    "o.\t8 = people"
   ]
  },
  {
   "cell_type": "code",
   "execution_count": 15,
   "id": "947d2a8b-4f9e-43a6-9acb-66f845253ce0",
   "metadata": {},
   "outputs": [],
   "source": [
    "people=8"
   ]
  },
  {
   "cell_type": "code",
   "execution_count": 20,
   "id": "9c07e543-ded2-4459-adba-f2666631d979",
   "metadata": {},
   "outputs": [
    {
     "name": "stdout",
     "output_type": "stream",
     "text": [
      "64\n"
     ]
    }
   ],
   "source": [
    "print\t(4 ** 3)"
   ]
  },
  {
   "cell_type": "code",
   "execution_count": 21,
   "id": "1c9f296c-0ac7-474e-a1b5-b1ae8537b5aa",
   "metadata": {},
   "outputs": [
    {
     "name": "stdout",
     "output_type": "stream",
     "text": [
      "5\n"
     ]
    }
   ],
   "source": [
    "print (-(-(-(-5))))"
   ]
  },
  {
   "cell_type": "code",
   "execution_count": 24,
   "id": "9550b0bf-af84-4180-bd75-857ddfe0df6a",
   "metadata": {},
   "outputs": [
    {
     "name": "stdout",
     "output_type": "stream",
     "text": [
      "number\tsquare\tcube\n",
      "0\t0\t0\n",
      "1\t1\t1\n",
      "2\t4\t8\n",
      "3\t9\t27\n",
      "4\t16\t64\n",
      "5\t25\t125\n",
      "6\t36\t216\n",
      "7\t49\t343\n",
      "8\t64\t512\n",
      "9\t81\t729\n",
      "10\t100\t1000\n"
     ]
    }
   ],
   "source": [
    "a,b,c,d,e,f,g,h,i,j,k = 0,1,2,3,4,5,6,7,8,9,10\n",
    "print(\"number\\tsquare\\tcube\")\n",
    "print(a, \"\\t\", a**2,\"\\t\", a** 3, sep=\"\") \n",
    "print(b, \"\\t\", b**2,\"\\t\", b** 3, sep=\"\") \n",
    "print(c, \"\\t\", c**2,\"\\t\", c** 3, sep=\"\")\n",
    "print(d, \"\\t\", d**2,\"\\t\", d** 3, sep=\"\")\n",
    "print(e, \"\\t\", e**2,\"\\t\", e** 3, sep=\"\") \n",
    "print(f, \"\\t\", f**2,\"\\t\", f** 3, sep=\"\") \n",
    "print(g, \"\\t\", g**2,\"\\t\", g** 3, sep=\"\") \n",
    "print(h, \"\\t\", h**2,\"\\t\", h** 3, sep=\"\") \n",
    "print(i, \"\\t\", i**2,\"\\t\", i** 3, sep=\"\")\n",
    "print(j, \"\\t\", j**2,\"\\t\", j** 3, sep=\"\")\n",
    "print(k, \"\\t\", k**2,\"\\t\", k** 3, sep=\"\") "
   ]
  },
  {
   "cell_type": "code",
   "execution_count": 25,
   "id": "2cd5fe85-94d5-4da2-949f-c1f8a13afdd4",
   "metadata": {},
   "outputs": [
    {
     "name": "stdout",
     "output_type": "stream",
     "text": [
      "4 2\n"
     ]
    }
   ],
   "source": [
    "a,b=2,4\n",
    "a=int(a*b)\n",
    "b= int(a/b)\n",
    "a= int(a/b)\n",
    "print (a,b)"
   ]
  },
  {
   "cell_type": "code",
   "execution_count": 27,
   "id": "054b39da-7c1e-4147-b393-85ca18d42381",
   "metadata": {},
   "outputs": [
    {
     "name": "stdin",
     "output_type": "stream",
     "text": [
      "enter two number 5 5\n"
     ]
    },
    {
     "name": "stdout",
     "output_type": "stream",
     "text": [
      "the sum is 10\n",
      "difference is 0\n",
      "product is 25\n",
      "qoutient is 1\n",
      "modulus is 0\n"
     ]
    }
   ],
   "source": [
    "num1, num2 = input(\"enter two number\").split()\n",
    "num1,num2 = int(num1),int (num2)\n",
    "print(\"the sum is\", num1+num2)\n",
    "print(\"difference is\", num1-num2)\n",
    "print(\"product is\", num1*num2)\n",
    "print(\"qoutient is\", num1//num2)\n",
    "print(\"modulus is\", num1%num2)"
   ]
  },
  {
   "cell_type": "code",
   "execution_count": 29,
   "id": "53e250f3-eb59-4ac0-89e7-ad55de9705d5",
   "metadata": {},
   "outputs": [
    {
     "name": "stdin",
     "output_type": "stream",
     "text": [
      "enter trhe radius:  4\n"
     ]
    },
    {
     "name": "stdout",
     "output_type": "stream",
     "text": [
      "the diametere is 8\n",
      "circumference is  25.12\n",
      "the area is 50.24\n"
     ]
    }
   ],
   "source": [
    "radius = int (input(\"enter trhe radius: \"))\n",
    "print (\"the diametere is\", 2*radius)\n",
    "print(\"circumference is \", 2*3.14*radius)\n",
    "print(\"the area is\" , 3.14*radius**2)"
   ]
  },
  {
   "cell_type": "code",
   "execution_count": 30,
   "id": "7c8c4234-9483-46af-8334-cc4cf3a82d29",
   "metadata": {},
   "outputs": [
    {
     "name": "stdin",
     "output_type": "stream",
     "text": [
      "enter a number 54321\n"
     ]
    },
    {
     "name": "stdout",
     "output_type": "stream",
     "text": [
      "12345\n"
     ]
    }
   ],
   "source": [
    "num= int (input(\"enter a number\"))\n",
    "p1= num%10\n",
    "p2=(num%100)//10\n",
    "p3= (num%1000)//100\n",
    "p4= (num%10000)//1000\n",
    "p5= num//10000\n",
    "print (p1,p2,p3,p4,p5,sep=\"\")\n"
   ]
  },
  {
   "cell_type": "code",
   "execution_count": 31,
   "id": "8e0f61ac-d14e-4d93-a6a3-6dbf4faa9b37",
   "metadata": {},
   "outputs": [
    {
     "name": "stdout",
     "output_type": "stream",
     "text": [
      "HHHHHH\n",
      "HHHHH\n",
      "HHHH\n",
      "HHH\n",
      "HH\n",
      "H\n",
      "\n"
     ]
    }
   ],
   "source": [
    "print('''HHHHHH\n",
    "HHHHH\n",
    "HHHH\n",
    "HHH\n",
    "HH\n",
    "H\n",
    "''')\n"
   ]
  },
  {
   "cell_type": "code",
   "execution_count": 36,
   "id": "4110fb0e-e534-41c1-8c5f-63811a45878c",
   "metadata": {},
   "outputs": [
    {
     "name": "stdin",
     "output_type": "stream",
     "text": [
      "Enter a number:  6\n"
     ]
    },
    {
     "name": "stdout",
     "output_type": "stream",
     "text": [
      "6 is an even number\n"
     ]
    }
   ],
   "source": [
    "num = int(input(\"Enter a number: \"))\n",
    "if num % 2:\n",
    "    print(num, \"is an odd number\")\n",
    "else:\n",
    "    print(num, \"is an even number\")"
   ]
  },
  {
   "cell_type": "code",
   "execution_count": 38,
   "id": "e669bc8b-2b25-4ed5-a79a-56a6d7a386f6",
   "metadata": {},
   "outputs": [
    {
     "name": "stdin",
     "output_type": "stream",
     "text": [
      "Enter the first integer:  5\n",
      "Enter the second integer:  6\n",
      "Enter the third integer:  4\n"
     ]
    },
    {
     "name": "stdout",
     "output_type": "stream",
     "text": [
      "The smallest number is: 4\n",
      "The largest number is: 6\n"
     ]
    }
   ],
   "source": [
    "num1 = int(input(\"Enter the first integer: \"))\n",
    "num2 = int(input(\"Enter the second integer: \"))\n",
    "num3 = int(input(\"Enter the third integer: \"))\n",
    "\n",
    "smallest = num1\n",
    "largest = num1\n",
    "\n",
    "if num2 < smallest:\n",
    "    smallest = num2\n",
    "if num3 < smallest:\n",
    "    smallest = num3\n",
    "\n",
    "if num2 > largest:\n",
    "    largest = num2\n",
    "if num3 > largest:\n",
    "    largest = num3\n",
    "\n",
    "print(\"The smallest number is:\", smallest)\n",
    "print(\"The largest number is:\", largest)"
   ]
  },
  {
   "cell_type": "code",
   "execution_count": 39,
   "id": "eef3cc5f-052d-4cba-9b6b-266cc2eb0efa",
   "metadata": {},
   "outputs": [
    {
     "name": "stdin",
     "output_type": "stream",
     "text": [
      "Enter integer 1:  5\n",
      "Enter integer 2:  9\n",
      "Enter integer 3:  4\n",
      "Enter integer 4:  8\n",
      "Enter integer 5:  5\n"
     ]
    },
    {
     "name": "stdout",
     "output_type": "stream",
     "text": [
      "The largest number is: 9\n",
      "The smallest number is: 4\n"
     ]
    }
   ],
   "source": [
    "largest = None\n",
    "smallest = None\n",
    "\n",
    "for i in range(5):\n",
    "    num = int(input(f\"Enter integer {i + 1}: \"))\n",
    "\n",
    "    if largest is None or num > largest:\n",
    "        largest = num\n",
    "\n",
    "    if smallest is None or num < smallest:\n",
    "        smallest = num\n",
    "\n",
    "print(\"The largest number is:\", largest)\n",
    "print(\"The smallest number is:\", smallest)"
   ]
  },
  {
   "cell_type": "code",
   "execution_count": null,
   "id": "fbdcf9c0-19b5-4e93-b0f8-34fce6ee76a8",
   "metadata": {},
   "outputs": [],
   "source": []
  }
 ],
 "metadata": {
  "kernelspec": {
   "display_name": "Python 3 (ipykernel)",
   "language": "python",
   "name": "python3"
  },
  "language_info": {
   "codemirror_mode": {
    "name": "ipython",
    "version": 3
   },
   "file_extension": ".py",
   "mimetype": "text/x-python",
   "name": "python",
   "nbconvert_exporter": "python",
   "pygments_lexer": "ipython3",
   "version": "3.12.4"
  }
 },
 "nbformat": 4,
 "nbformat_minor": 5
}
